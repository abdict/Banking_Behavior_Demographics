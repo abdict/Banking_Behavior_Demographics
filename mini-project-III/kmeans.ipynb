{
 "cells": [
  {
   "cell_type": "markdown",
   "metadata": {},
   "source": [
    "### K-Means iteration visulizer"
   ]
  },
  {
   "cell_type": "code",
   "execution_count": 1,
   "metadata": {},
   "outputs": [],
   "source": [
    "import numpy as np\n",
    "import seaborn as sns\n",
    "import matplotlib.pyplot as plt"
   ]
  },
  {
   "cell_type": "code",
   "execution_count": 11,
   "metadata": {},
   "outputs": [],
   "source": [
    "def k_means(X, N_clusters=3, N_iterations=20):\n",
    "    _size = len(X)\n",
    "    rand_cent = [0 for _ in range(N_clusters)]\n",
    "    for j in range(N_clusters) : rand_cent[j] = [np.random.random()+3, np.random.random()-3]\n",
    "    label = [0 for _ in range(_size)]\n",
    "    stop = False\n",
    "    it = 0\n",
    "    while stop == False and it <= N_iterations:\n",
    "        old_cent = rand_cent\n",
    "        it += 1\n",
    "        for i in range(_size):\n",
    "            dist = [np.linalg.norm(np.array(X[i]) - np.array(rand_cent[j])) for j in range(N_clusters)]\n",
    "            label[i] = np.argmin(dist)\n",
    "        for j in range(N_clusters):\n",
    "            n_j = label.count(j)\n",
    "            _sum = 0\n",
    "            for i in range(_size):\n",
    "                if label[i] == j: _sum += X[i]\n",
    "            rand_cent[j] = _sum / n_j\n",
    "            # print(rand_cent[j])\n",
    "        for tol in [abs(rand_cent[j] - old_cent[j]) for j in range(N_clusters)]:\n",
    "            print(tol)\n",
    "            if np.linalg.norm(tol) <= 1.e-8: stop = True\n",
    "    return label"
   ]
  },
  {
   "cell_type": "code",
   "execution_count": 3,
   "metadata": {},
   "outputs": [
    {
     "data": {
      "text/plain": [
       "<AxesSubplot:>"
      ]
     },
     "execution_count": 3,
     "metadata": {},
     "output_type": "execute_result"
    },
    {
     "data": {
      "image/png": "[encoded data removed]",
      "text/plain": [
       "<Figure size 432x288 with 1 Axes>"
      ]
     },
     "metadata": {
      "needs_background": "light"
     },
     "output_type": "display_data"
    }
   ],
   "source": [
    "from sklearn.datasets import make_blobs as mb\n",
    "\n",
    "x = mb(n_samples=100, n_features=2, centers=3)\n",
    "sns.scatterplot(x=x[0][:, 0], y=x[0][:, 1])"
   ]
  },
  {
   "cell_type": "code",
   "execution_count": 12,
   "metadata": {},
   "outputs": [
    {
     "name": "stdout",
     "output_type": "stream",
     "text": [
      "[0. 0.]\n",
      "[0. 0.]\n",
      "[0. 0.]\n"
     ]
    }
   ],
   "source": [
    "l = k_means(x[0])"
   ]
  },
  {
   "cell_type": "code",
   "execution_count": 5,
   "metadata": {},
   "outputs": [],
   "source": [
    "def plot_clusters(X, y_res, plt_cluster_centers = False):\n",
    "    X_centroids = []\n",
    "    Y_centroids = []\n",
    "\n",
    "    for cluster in set(y_res):\n",
    "        x = X[y_res == cluster,0]\n",
    "        y = X[y_res == cluster,1]\n",
    "        X_centroids.append(np.mean(x))\n",
    "        Y_centroids.append(np.mean(y))\n",
    "\n",
    "        plt.scatter(x,\n",
    "                    y,\n",
    "                    s=30,\n",
    "                    marker='o',\n",
    "                    label=f'cluster {cluster}')\n",
    "\n",
    "    if plt_cluster_centers:\n",
    "        plt.scatter(X_centroids,\n",
    "                    Y_centroids,\n",
    "                    marker='*',\n",
    "                    c='red',\n",
    "                    s=250,\n",
    "                    label='centroids')\n",
    "    plt.legend()\n",
    "    # plt.grid()\n",
    "    plt.show()"
   ]
  },
  {
   "cell_type": "code",
   "execution_count": 10,
   "metadata": {},
   "outputs": [
    {
     "data": {
      "image/png": "[encoded data removed]",
      "text/plain": [
       "<Figure size 432x288 with 1 Axes>"
      ]
     },
     "metadata": {
      "needs_background": "light"
     },
     "output_type": "display_data"
    }
   ],
   "source": [
    "plot_clusters(x[0], l, True)"
   ]
  },
  {
   "cell_type": "code",
   "execution_count": null,
   "metadata": {},
   "outputs": [],
   "source": []
  }
 ],
 "metadata": {
  "kernelspec": {
   "display_name": "lhl_work",
   "language": "python",
   "name": "lhl_work"
  },
  "language_info": {
   "codemirror_mode": {
    "name": "ipython",
    "version": 3
   },
   "file_extension": ".py",
   "mimetype": "text/x-python",
   "name": "python",
   "nbconvert_exporter": "python",
   "pygments_lexer": "ipython3",
   "version": "3.10.4"
  },
  "orig_nbformat": 4
 },
 "nbformat": 4,
 "nbformat_minor": 2
}
