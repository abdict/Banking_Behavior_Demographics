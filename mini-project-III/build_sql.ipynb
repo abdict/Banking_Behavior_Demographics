{
 "cells": [
  {
   "cell_type": "markdown",
   "metadata": {},
   "source": [
    "#### Build up a SQL database for quick check"
   ]
  },
  {
   "cell_type": "code",
   "execution_count": 13,
   "metadata": {},
   "outputs": [],
   "source": [
    "import sqlite3 as sq\n",
    "import pandas as pd\n",
    "\n",
    "con = sq.connect('data_fixed/tables_all.db')"
   ]
  },
  {
   "cell_type": "code",
   "execution_count": 14,
   "metadata": {},
   "outputs": [
    {
     "data": {
      "text/plain": [
       "747"
      ]
     },
     "execution_count": 14,
     "metadata": {},
     "output_type": "execute_result"
    }
   ],
   "source": [
    "customer = pd.read_csv('data/twm_customer.csv', sep=';')\n",
    "customer.columns = customer.columns.str.strip()\n",
    "customer.to_sql('customer', con, if_exists='replace', index=False)\n",
    "\n",
    "# cur = con.cursor()\n",
    "# cur.execute('SELECT * FROM customer')\n",
    "# res = cur.fetchall()"
   ]
  },
  {
   "cell_type": "code",
   "execution_count": 15,
   "metadata": {},
   "outputs": [
    {
     "data": {
      "text/plain": [
       "1409"
      ]
     },
     "execution_count": 15,
     "metadata": {},
     "output_type": "execute_result"
    }
   ],
   "source": [
    "accounts = pd.read_csv('data/twm_accounts.csv', sep=';')\n",
    "accounts.columns = accounts.columns.str.strip()\n",
    "accounts.to_sql('accounts', con, if_exists='replace', index=False)\n",
    "\n",
    "# cur = con.cursor()\n",
    "# cur.execute('SELECT * FROM accounts')\n",
    "# res = cur.fetchall()"
   ]
  },
  {
   "cell_type": "code",
   "execution_count": 16,
   "metadata": {},
   "outputs": [
    {
     "data": {
      "text/plain": [
       "520"
      ]
     },
     "execution_count": 16,
     "metadata": {},
     "output_type": "execute_result"
    }
   ],
   "source": [
    "checking_acct = pd.read_csv('data/twm_checking_acct.csv', sep=';')\n",
    "checking_acct.columns = checking_acct.columns.str.strip()\n",
    "checking_acct.to_sql('checking_acct', con, if_exists='replace', index=False)\n",
    "\n",
    "# cur = con.cursor()\n",
    "# cur.execute('SELECT * FROM checking_acct')\n",
    "# res = cur.fetchall()"
   ]
  },
  {
   "cell_type": "code",
   "execution_count": 17,
   "metadata": {},
   "outputs": [
    {
     "data": {
      "text/plain": [
       "46204"
      ]
     },
     "execution_count": 17,
     "metadata": {},
     "output_type": "execute_result"
    }
   ],
   "source": [
    "checking_tran = pd.read_csv('data/twm_checking_tran.csv', sep=';')\n",
    "checking_tran.columns = checking_tran.columns.str.strip()\n",
    "checking_tran.to_sql('checking_tran', con, if_exists='replace', index=False)\n",
    "\n",
    "# cur = con.cursor()\n",
    "# cur.execute('SELECT * FROM checking_tran')\n",
    "# res = cur.fetchall()"
   ]
  },
  {
   "cell_type": "code",
   "execution_count": 18,
   "metadata": {},
   "outputs": [
    {
     "data": {
      "text/plain": [
       "468"
      ]
     },
     "execution_count": 18,
     "metadata": {},
     "output_type": "execute_result"
    }
   ],
   "source": [
    "credit_acct = pd.read_csv('data/twm_credit_acct.csv', sep=';')\n",
    "credit_acct.columns = credit_acct.columns.str.strip()\n",
    "credit_acct.to_sql('credit_acct', con, if_exists='replace', index=False)\n",
    "\n",
    "# cur = con.cursor()\n",
    "# cur.execute('SELECT * FROM credit_acct')\n",
    "# res = cur.fetchall()"
   ]
  },
  {
   "cell_type": "code",
   "execution_count": 19,
   "metadata": {},
   "outputs": [
    {
     "data": {
      "text/plain": [
       "20167"
      ]
     },
     "execution_count": 19,
     "metadata": {},
     "output_type": "execute_result"
    }
   ],
   "source": [
    "credit_tran = pd.read_csv('data/twm_credit_tran.csv', sep=';')\n",
    "credit_tran.columns = credit_tran.columns.str.strip()\n",
    "credit_tran.to_sql('credit_tran', con, if_exists='replace', index=False)\n",
    "\n",
    "# cur = con.cursor()\n",
    "# cur.execute('SELECT * FROM credit_tran')\n",
    "# res = cur.fetchall()"
   ]
  },
  {
   "cell_type": "code",
   "execution_count": 20,
   "metadata": {},
   "outputs": [
    {
     "data": {
      "text/plain": [
       "421"
      ]
     },
     "execution_count": 20,
     "metadata": {},
     "output_type": "execute_result"
    }
   ],
   "source": [
    "savings_acct = pd.read_csv('data/twm_savings_acct.csv', sep=';')\n",
    "savings_acct.columns = savings_acct.columns.str.strip()\n",
    "savings_acct.to_sql('savings_acct', con, if_exists='replace', index=False)\n",
    "\n",
    "# cur = con.cursor()\n",
    "# cur.execute('SELECT * FROM savings_acct')\n",
    "# res = cur.fetchall()"
   ]
  },
  {
   "cell_type": "code",
   "execution_count": 21,
   "metadata": {},
   "outputs": [
    {
     "data": {
      "text/plain": [
       "11189"
      ]
     },
     "execution_count": 21,
     "metadata": {},
     "output_type": "execute_result"
    }
   ],
   "source": [
    "savings_tran = pd.read_csv('data/twm_savings_tran.csv', sep=';')\n",
    "savings_tran.columns = savings_tran.columns.str.strip()\n",
    "savings_tran.to_sql('savings_tran', con, if_exists='replace', index=False)\n",
    "\n",
    "# cur = con.cursor()\n",
    "# cur.execute('SELECT * FROM savings_tran')\n",
    "# res = cur.fetchall()"
   ]
  },
  {
   "cell_type": "code",
   "execution_count": 22,
   "metadata": {},
   "outputs": [
    {
     "data": {
      "text/plain": [
       "77580"
      ]
     },
     "execution_count": 22,
     "metadata": {},
     "output_type": "execute_result"
    }
   ],
   "source": [
    "transactions = pd.read_csv('data/twm_transactions.csv', sep=';')\n",
    "transactions.columns = transactions.columns.str.strip()\n",
    "transactions.to_sql('transactions', con, if_exists='replace', index=False)\n",
    "\n",
    "# cur = con.cursor()\n",
    "# cur.execute('SELECT * FROM transactions')\n",
    "# res = cur.fetchall()"
   ]
  },
  {
   "cell_type": "code",
   "execution_count": 23,
   "metadata": {},
   "outputs": [],
   "source": [
    "con.commit()\n",
    "con.close()"
   ]
  }
 ],
 "metadata": {
  "kernelspec": {
   "display_name": "lhl_work",
   "language": "python",
   "name": "lhl_work"
  },
  "language_info": {
   "codemirror_mode": {
    "name": "ipython",
    "version": 3
   },
   "file_extension": ".py",
   "mimetype": "text/x-python",
   "name": "python",
   "nbconvert_exporter": "python",
   "pygments_lexer": "ipython3",
   "version": "3.10.4"
  },
  "orig_nbformat": 4
 },
 "nbformat": 4,
 "nbformat_minor": 2
}
